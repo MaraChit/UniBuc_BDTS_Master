{
  "nbformat": 4,
  "nbformat_minor": 0,
  "metadata": {
    "colab": {
      "name": "Music top hits.ipynb",
      "provenance": [],
      "collapsed_sections": []
    },
    "kernelspec": {
      "name": "python3",
      "display_name": "Python 3"
    },
    "language_info": {
      "name": "python"
    }
  },
  "cells": [
    {
      "cell_type": "markdown",
      "source": [
        "# TOP MUSIC HITS - Proiect Big Data\n",
        "Scopul acestui proiect este de a incerca prezicerea popularitatii unor cantece in functie de caracteristicile acestora. Acesta poate fi folosit pentru analizarea datelor si oferirea de recomandari artistilor interesati sa produca un nou hit. De asemenea, inaintea incercarii prezicerii popularitatii, setul de date va fi analizat pe cateva caractaeristici pentru a vedea ce preferinte muzicale ajuta un cantec sa ajunga in top.\n",
        "\n",
        "Setul de date se numește songs_normalize și conține 18 coloane si 2000 de intrari reprezentand hiturile din anii 2000 - 2019 de pe platforma Spotify. Pentru o mai buna intelegere a setului de date voi prezenta coloanele si semnificatiile acestora mai jos:\n",
        "\n",
        "\n",
        "*  **artist**: numele artistului\n",
        "*  **song**: numele piesei\n",
        "*  **duration_ms**: durata piesei in milisecunde\n",
        "*  **explicit**: versurile sau continutul unui cantec contin unul sau mai multe cuvinte/secvente care ar putea fi considerate jignitoare sau nepotrivite pentru copii\n",
        "*  **year**: anul lansarii piesei.\n",
        "*  **popularity**: cu cat valoarea este mai mare, cu atat melodia este mai populara\n",
        "*  **danceability**: descrie cat de potrivita este o piesa pentru dans, pe baza unei combinatii de elemente muzicale, inclusiv tempo, stabilitatea ritmului, puterea ritmului si regularitatea generala, unde valoarea de 0,0 este cea mai putin dansabila si 1,0 este cea mai dansabila\n",
        "*  **energy**: o valoare intre 0,0 si 1,0 ce reprezinta o masura perceptiva a intensitatii si a activitatii\n",
        "*  **key**: cheia in care se afla melodia. Se mapeaza folosind notatia standard Pitch Class. De exemplu: 0 = C, 1 = C♯/D♭, 2 = D etc. Daca nu a fost detectata nicio cheie, valoarea este -1 \n",
        "*  **loudness**: volumul total al unei piese în decibeli (db). Valorile sonore sunt mediate pe durat intregii piese si sunt utile pentru a compara intensitatea relativa a acestora. Valorile variaza de obicei intre -60 și 0 db.\n",
        "*  **mode**: indica modalitatea (major sau minor) a unei piese. Major este reprezentat de 1 si minor este 0.\n",
        "*  **speechiness**: detectează prezenta cuvintelor rostite intr-o piesa. Cu cat inregistrarea are mai multe cuvinte (exemplu: talk-show, carte audio), cu atat valoarea atributului este mai aproape de 1.0. Valorile de peste 0,66 descriu piese care sunt probabil formate in intregime din cuvinte. Valorile intre 0,33 și 0,66 descriu piese care pot conține muzica dar si vorbire, inclusiv cazuri precum muzica rap. Valorile sub 0,33 reprezintă cel mai probabil muzica si alte melodii care nu contin cuvinte\n",
        "*  **acousticness**: are valori de la 0.0 la 1.0, unde 1.0 reprezintă o incredere ridicată ca pista este acustica\n",
        "*  **instrumentalness**: prezice daca o piesa nu contine voce. Sunetele „Ooh” si „aah” sunt tratate ca instrumentale in acest context. Melodiile rap sau vorbite sunt în mod clar „vocale”. 1.0 indica cea mai mare probabilitatea ca piesa sa nu contina cuvinte (valorile de peste 0.5 sunt menite sa indice piese instrumentale, dar siguranta creste cand valoarea se apropie de 1.0) \n",
        "*  **liveness**: detectează prezenta unei audiente. O valoare peste 0.8 indica o probabilitate mare ca piesa sa fie live\n",
        "*  **valence**: o valoare de la 0.0 la 1.0 care descrie pozitivitatea muzicala transmisa de o piesa. Piesele cu valenta ridicata suna mai pozitiv (fericit, vesel, euforic), in timp ce piesele cu valenta scazuta suna mai negativ (trist, deprimat, furios)\n",
        "*  **tempo**: tempo-ul total estimat al unei piese in batai pe minut (BPM). \n",
        "*  **genre**: genul piesei\n",
        "\n",
        "Etapele proiectului:\n",
        "1. Importarea librariilor si creearea sesiunii spark\n",
        "2. Importarea setului de date din fisierul CSV aflat in Google Drive\n",
        "3. Prezentarea datelor (coloane, numar de intrari, cateva statistici)\n",
        "4. Verificarea, prelucrarea si pregatirea datelor\n",
        "     *   Verificarea pe coloane a existentei valorilor null\n",
        "     *   Verificarea datelor din coloana 'genre'\n",
        "     *   Transformarea variabilei 'genre' de tip string in variabila categoriala\n",
        "     *   Creearea unui vector de 'features' folosind VectorAssembler\n",
        "5. Selectia modelelor: \n",
        "    *  Linear Regression\n",
        "    *  Random Forest + creearea si utilizarea unui pipeline\n",
        "    *  Gradient-boosted tree regression + creearea si utilizarea unui pipeline\n",
        "6. Utilizarea unui model DL - utilizand Tensorflow\n",
        "\n",
        "\n",
        "\n"
      ],
      "metadata": {
        "id": "kaBulsDF_2eC"
      }
    },
    {
      "cell_type": "markdown",
      "source": [
        "### 1. Importarea librariilor si creearea sesiunii spark"
      ],
      "metadata": {
        "id": "yEkMkcJtb0sx"
      }
    },
    {
      "cell_type": "code",
      "source": [
        "# Se instaleaza pyspark\n",
        "\n",
        "!pip install pyspark"
      ],
      "metadata": {
        "colab": {
          "base_uri": "https://localhost:8080/",
          "height": 0
        },
        "id": "7M5Rbxl7_22u",
        "outputId": "84f5e538-524c-4824-c7a6-55b84ceaccdb"
      },
      "execution_count": 1,
      "outputs": [
        {
          "output_type": "stream",
          "name": "stdout",
          "text": [
            "Looking in indexes: https://pypi.org/simple, https://us-python.pkg.dev/colab-wheels/public/simple/\n",
            "Collecting pyspark\n",
            "  Downloading pyspark-3.3.0.tar.gz (281.3 MB)\n",
            "\u001b[K     |████████████████████████████████| 281.3 MB 43 kB/s \n",
            "\u001b[?25hCollecting py4j==0.10.9.5\n",
            "  Downloading py4j-0.10.9.5-py2.py3-none-any.whl (199 kB)\n",
            "\u001b[K     |████████████████████████████████| 199 kB 53.1 MB/s \n",
            "\u001b[?25hBuilding wheels for collected packages: pyspark\n",
            "  Building wheel for pyspark (setup.py) ... \u001b[?25l\u001b[?25hdone\n",
            "  Created wheel for pyspark: filename=pyspark-3.3.0-py2.py3-none-any.whl size=281764026 sha256=712c37dd208548e3672909d16f9faac4dc377786d24bea52c4199e602d4c9d5d\n",
            "  Stored in directory: /root/.cache/pip/wheels/7a/8e/1b/f73a52650d2e5f337708d9f6a1750d451a7349a867f928b885\n",
            "Successfully built pyspark\n",
            "Installing collected packages: py4j, pyspark\n",
            "Successfully installed py4j-0.10.9.5 pyspark-3.3.0\n"
          ]
        }
      ]
    },
    {
      "cell_type": "code",
      "source": [
        "# Se importa librariile ce vor fi folosite in proiect\n",
        "\n",
        "from google.colab import drive\n",
        "import numpy as np\n",
        "import matplotlib.pyplot as plt \n",
        "import seaborn as sns\n",
        "from pyspark.sql import functions\n",
        "import pyspark.sql.functions as f\n",
        "from pyspark.sql.functions import col\n",
        "from pyspark.ml.feature import VectorAssembler,VectorIndexer,OneHotEncoder,StringIndexer\n",
        "from pyspark.ml.linalg import Vectors\n",
        "from pyspark.ml import Pipeline\n",
        "from pyspark.ml.regression import LinearRegression, RandomForestRegressor, GBTRegressor\n",
        "from pyspark.ml.evaluation import RegressionEvaluator \n",
        "from sklearn.model_selection import train_test_split\n",
        "from sklearn.preprocessing import MinMaxScaler\n",
        "from tensorflow.keras.models import Sequential\n",
        "from tensorflow.keras.layers import Dense\n",
        "from sklearn.metrics import mean_squared_error, mean_absolute_error, mean_squared_log_error"
      ],
      "metadata": {
        "id": "kdVMKyi1AQzz"
      },
      "execution_count": 118,
      "outputs": []
    },
    {
      "cell_type": "code",
      "source": [
        "# Se creeaza o sesiune spark: \"music_hits\"\n",
        "from pyspark.sql import SparkSession\n",
        "spark = SparkSession.builder.appName('music_hits').getOrCreate()"
      ],
      "metadata": {
        "id": "EdHRjezQAt0G"
      },
      "execution_count": 3,
      "outputs": []
    },
    {
      "cell_type": "markdown",
      "source": [
        "### 2. Importarea setului de date din fisierul CSV aflat in Google Drive"
      ],
      "metadata": {
        "id": "zicQaeaLb6qM"
      }
    },
    {
      "cell_type": "code",
      "source": [
        "# Se importa datele din fisierul CSV aflat pe Google Drive\n",
        "drive.mount('/content/drive')\n",
        "folder = \"/content/drive/MyDrive/Big Data/\"\n",
        "df = spark.read.csv(folder + 'songs_normalize.csv', inferSchema=True, header=True)"
      ],
      "metadata": {
        "colab": {
          "base_uri": "https://localhost:8080/",
          "height": 0
        },
        "id": "zocYRBHzA_Nd",
        "outputId": "b1b50ebc-5a5d-4f98-cb74-1238e3c442ba"
      },
      "execution_count": 4,
      "outputs": [
        {
          "output_type": "stream",
          "name": "stdout",
          "text": [
            "Mounted at /content/drive\n"
          ]
        }
      ]
    },
    {
      "cell_type": "markdown",
      "source": [
        "### 3.Prezentarea datelor\n",
        "Se vor afisa: schema datelor, numarul de intrari din setul de date, coloanele existente, afisarea primelor 20 de intrari, o statistica si cateva ploturi (matricea de corelatii si histograme). Primul plot va fi reprezentat de matricea de corelatii si va contine toate atributele din setul de date, al doilea plot va fi o histograma ce va prezenta distributia variabilei 'popularity' iar al treilea plot va fi o histograma ce va analiza variabila 'valenta'.\n"
      ],
      "metadata": {
        "id": "psYbXg2BcLZg"
      }
    },
    {
      "cell_type": "code",
      "source": [
        "# Se afiseaza schema datelor\n",
        "df.printSchema()"
      ],
      "metadata": {
        "colab": {
          "base_uri": "https://localhost:8080/",
          "height": 0
        },
        "id": "TJdERkNtDH8N",
        "outputId": "d2ba295f-2a82-4cf5-d7cc-0028f358d1f8"
      },
      "execution_count": 5,
      "outputs": [
        {
          "output_type": "stream",
          "name": "stdout",
          "text": [
            "root\n",
            " |-- artist: string (nullable = true)\n",
            " |-- song: string (nullable = true)\n",
            " |-- duration_ms: integer (nullable = true)\n",
            " |-- explicit: boolean (nullable = true)\n",
            " |-- year: integer (nullable = true)\n",
            " |-- popularity: integer (nullable = true)\n",
            " |-- danceability: double (nullable = true)\n",
            " |-- energy: double (nullable = true)\n",
            " |-- key: integer (nullable = true)\n",
            " |-- loudness: double (nullable = true)\n",
            " |-- mode: integer (nullable = true)\n",
            " |-- speechiness: double (nullable = true)\n",
            " |-- acousticness: double (nullable = true)\n",
            " |-- instrumentalness: double (nullable = true)\n",
            " |-- liveness: double (nullable = true)\n",
            " |-- valence: double (nullable = true)\n",
            " |-- tempo: double (nullable = true)\n",
            " |-- genre: string (nullable = true)\n",
            "\n"
          ]
        }
      ]
    },
    {
      "cell_type": "code",
      "source": [
        "# Se afiseaza numarul de intrari din setul de date\n",
        "df.count()"
      ],
      "metadata": {
        "colab": {
          "base_uri": "https://localhost:8080/",
          "height": 0
        },
        "id": "6hODY4XUEDEg",
        "outputId": "e6861350-5eb8-4c67-f97d-19f7d0dd0a2a"
      },
      "execution_count": 6,
      "outputs": [
        {
          "output_type": "execute_result",
          "data": {
            "text/plain": [
              "2000"
            ]
          },
          "metadata": {},
          "execution_count": 6
        }
      ]
    },
    {
      "cell_type": "code",
      "source": [
        "# Se afiseaza coloanele din setul de date\n",
        "df.columns"
      ],
      "metadata": {
        "colab": {
          "base_uri": "https://localhost:8080/",
          "height": 0
        },
        "id": "3FC9ejw7EGbO",
        "outputId": "34819553-45c0-403e-df30-f41ff305ad81"
      },
      "execution_count": 7,
      "outputs": [
        {
          "output_type": "execute_result",
          "data": {
            "text/plain": [
              "['artist',\n",
              " 'song',\n",
              " 'duration_ms',\n",
              " 'explicit',\n",
              " 'year',\n",
              " 'popularity',\n",
              " 'danceability',\n",
              " 'energy',\n",
              " 'key',\n",
              " 'loudness',\n",
              " 'mode',\n",
              " 'speechiness',\n",
              " 'acousticness',\n",
              " 'instrumentalness',\n",
              " 'liveness',\n",
              " 'valence',\n",
              " 'tempo',\n",
              " 'genre']"
            ]
          },
          "metadata": {},
          "execution_count": 7
        }
      ]
    },
    {
      "cell_type": "code",
      "source": [
        "# Se afiseaza datele (primele 20 de randuri)\n",
        "df.show()"
      ],
      "metadata": {
        "colab": {
          "base_uri": "https://localhost:8080/",
          "height": 0
        },
        "id": "Ts3wQ1UNEx2N",
        "outputId": "74aebc4c-257a-4501-a55a-6ad8a7e442c0"
      },
      "execution_count": 8,
      "outputs": [
        {
          "output_type": "stream",
          "name": "stdout",
          "text": [
            "+---------------+--------------------+-----------+--------+----+----------+------------+------+---+--------+----+-----------+------------+----------------+--------+-------+-------+--------------------+\n",
            "|         artist|                song|duration_ms|explicit|year|popularity|danceability|energy|key|loudness|mode|speechiness|acousticness|instrumentalness|liveness|valence|  tempo|               genre|\n",
            "+---------------+--------------------+-----------+--------+----+----------+------------+------+---+--------+----+-----------+------------+----------------+--------+-------+-------+--------------------+\n",
            "| Britney Spears|Oops!...I Did It ...|     211160|   false|2000|        77|       0.751| 0.834|  1|  -5.444|   0|     0.0437|         0.3|         1.77E-5|   0.355|  0.894| 95.053|                 pop|\n",
            "|      blink-182|All The Small Things|     167066|   false|1999|        79|       0.434| 0.897|  0|  -4.918|   1|     0.0488|      0.0103|             0.0|   0.612|  0.684|148.726|           rock, pop|\n",
            "|     Faith Hill|             Breathe|     250546|   false|1999|        66|       0.529| 0.496|  7|  -9.007|   1|      0.029|       0.173|             0.0|   0.251|  0.278|136.859|        pop, country|\n",
            "|       Bon Jovi|        It's My Life|     224493|   false|2000|        78|       0.551| 0.913|  0|  -4.063|   0|     0.0466|      0.0263|         1.35E-5|   0.347|  0.544|119.992|         rock, metal|\n",
            "|         *NSYNC|         Bye Bye Bye|     200560|   false|2000|        65|       0.614| 0.928|  8|  -4.806|   0|     0.0516|      0.0408|         0.00104|  0.0845|  0.879|172.656|                 pop|\n",
            "|          Sisqo|          Thong Song|     253733|    true|1999|        69|       0.706| 0.888|  2|  -6.959|   1|     0.0654|       0.119|         9.64E-5|    0.07|  0.714|121.549|   hip hop, pop, R&B|\n",
            "|         Eminem| The Real Slim Shady|     284200|    true|2000|        86|       0.949| 0.661|  5|  -4.244|   0|     0.0572|      0.0302|             0.0|  0.0454|   0.76|104.504|             hip hop|\n",
            "|Robbie Williams|             Rock DJ|     258560|   false|2000|        68|       0.708| 0.772|  7|  -4.264|   1|     0.0322|      0.0267|             0.0|   0.467|  0.861|103.035|           pop, rock|\n",
            "|Destiny's Child|         Say My Name|     271333|   false|1999|        75|       0.713| 0.678|  5|  -3.525|   0|      0.102|       0.273|             0.0|   0.149|  0.734|138.009|            pop, R&B|\n",
            "|          Modjo|Lady - Hear Me To...|     307153|   false|2001|        77|        0.72| 0.808|  6|  -5.627|   1|     0.0379|     0.00793|          0.0293|  0.0634|  0.869|126.041|    Dance/Electronic|\n",
            "|Gigi D'Agostino|    L'Amour Toujours|     238759|   false|2011|         1|       0.617| 0.728|  7|  -7.932|   1|     0.0292|      0.0328|          0.0482|    0.36|  0.808|139.066|                 pop|\n",
            "|      Eiffel 65|Move Your Body - ...|     268863|   false|1999|        56|       0.745| 0.958|  7|  -9.664|   1|     0.0287|      0.0813|           0.324|   0.533|   0.96|129.962|                 pop|\n",
            "|   Bomfunk MC's|          Freestyler|     306333|   false|2000|        55|       0.822| 0.922| 11|  -5.798|   0|     0.0989|      0.0291|           0.325|   0.252|  0.568|163.826|                 pop|\n",
            "|          Sting|         Desert Rose|     285960|   false|1999|        62|       0.586| 0.659|  0|   -7.92|   0|     0.0304|       0.011|             0.0|   0.106|  0.147|111.989|           rock, pop|\n",
            "|      Melanie C|Never Be The Same...|     294200|   false|1999|        61|       0.689| 0.685|  3|  -5.153|   1|     0.0478|      0.0921|             0.0|   0.119|  0.398|160.067|pop, Dance/Electr...|\n",
            "|        Aaliyah|           Try Again|     284000|   false|2002|        53|       0.797| 0.622|  6|  -5.642|   0|       0.29|      0.0807|             0.0|  0.0841|  0.731|  93.02|   hip hop, pop, R&B|\n",
            "|      Anastacia|I'm Outta Love - ...|     245400|   false|1999|        64|       0.761| 0.716| 10|    -5.8|   0|      0.056|       0.396|             0.0|  0.0771|  0.649| 119.41|                 pop|\n",
            "|   Alice Deejay|    Better Off Alone|     214883|   false|2000|        73|       0.671|  0.88|  8|  -6.149|   0|     0.0552|     0.00181|           0.691|   0.285|  0.782|136.953|                 pop|\n",
            "|Gigi D'Agostino|          The Riddle|     285426|   false|1999|        64|        0.74| 0.876|  6|   -6.87|   0|     0.0369|      0.0173|         0.00152|  0.0785|  0.825|127.002|                 pop|\n",
            "|        Dr. Dre|    The Next Episode|     161506|    true|1999|        82|       0.922| 0.909| 10|  -2.429|   0|       0.27|      0.0281|             0.0|  0.0856|  0.309| 95.295|             hip hop|\n",
            "+---------------+--------------------+-----------+--------+----+----------+------------+------+---+--------+----+-----------+------------+----------------+--------+-------+-------+--------------------+\n",
            "only showing top 20 rows\n",
            "\n"
          ]
        }
      ]
    },
    {
      "cell_type": "code",
      "source": [
        "# Se va afisa o scurta statistica asupra setului de date\n",
        "df.summary().show()"
      ],
      "metadata": {
        "colab": {
          "base_uri": "https://localhost:8080/",
          "height": 0
        },
        "id": "xKBHIjzwFAO7",
        "outputId": "490d24df-9ec2-4b6e-a73f-1307528d93fa"
      },
      "execution_count": 9,
      "outputs": [
        {
          "output_type": "stream",
          "name": "stdout",
          "text": [
            "+-------+-------------+--------------------+------------------+-----------------+----------------+-------------------+------------------+-----------------+------------------+-------------------+-------------------+-------------------+--------------------+-------------------+------------------+------------------+----------------+\n",
            "|summary|       artist|                song|       duration_ms|             year|      popularity|       danceability|            energy|              key|          loudness|               mode|        speechiness|       acousticness|    instrumentalness|           liveness|           valence|             tempo|           genre|\n",
            "+-------+-------------+--------------------+------------------+-----------------+----------------+-------------------+------------------+-----------------+------------------+-------------------+-------------------+-------------------+--------------------+-------------------+------------------+------------------+----------------+\n",
            "|  count|         2000|                2000|              2000|             2000|            2000|               2000|              2000|             2000|              2000|               2000|               2000|               2000|                2000|               2000|              2000|              2000|            2000|\n",
            "|   mean|        112.0|  1312.2857142857142|       228748.1245|         2009.494|         59.8725| 0.6674374999999999|0.7203659999999987|            5.378|-5.512434500000003|             0.5535| 0.1035677000000002|0.12895492795000016|0.015225990605000012|0.18121580000000018|0.5516896499999988|120.12255750000004|            null|\n",
            "| stddev|          0.0|   1207.189810301279|39136.569007525984|5.859960201808841|21.3355770293092|0.14041641456214854|0.1527452844278915|3.615058827344666| 1.933482013378397|0.49725383929170963|0.09615876419066204|0.17334592622478562| 0.08777072160147573|0.14066920673417335|0.2208641897932847| 26.96711198847942|            null|\n",
            "|    min|\"H \"\"two\"\" O\"|\"CAN'T STOP THE F...|            113000|             1998|               0|              0.129|            0.0549|                0|           -20.514|                  0|             0.0232|            1.92E-5|                 0.0|             0.0215|            0.0381|            60.019|Dance/Electronic|\n",
            "|    25%|        112.0|                22.0|            203520|             2004|              56|              0.581|             0.622|                2|            -6.491|                  0|             0.0396|              0.014|                 0.0|             0.0881|             0.386|            98.985|            null|\n",
            "|    50%|        112.0|              1955.0|            223266|             2010|              65|              0.676|             0.736|                6|            -5.285|                  1|             0.0598|             0.0556|                 0.0|              0.124|             0.557|           120.021|            null|\n",
            "|    75%|        112.0|              2002.0|            248133|             2015|              73|              0.764|             0.839|                8|            -4.168|                  1|              0.129|              0.176|              6.8E-5|              0.241|              0.73|           134.199|            null|\n",
            "|    max|    will.i.am|     Échame La Culpa|            484146|             2020|              89|              0.975|             0.999|               11|            -0.276|                  1|              0.576|              0.976|               0.985|              0.853|             0.973|           210.851|           set()|\n",
            "+-------+-------------+--------------------+------------------+-----------------+----------------+-------------------+------------------+-----------------+------------------+-------------------+-------------------+-------------------+--------------------+-------------------+------------------+------------------+----------------+\n",
            "\n"
          ]
        }
      ]
    },
    {
      "cell_type": "code",
      "source": [
        "# Se face transformarea dataframe-ului in Pandas pentru a putea creea ploturi\n",
        "df_pandas = df.toPandas()"
      ],
      "metadata": {
        "id": "UzXBsEJKcwjn"
      },
      "execution_count": 78,
      "outputs": []
    },
    {
      "cell_type": "code",
      "source": [
        "# Se afiseaza matricea de corelatii\n",
        "\n",
        "plt.figure(figsize=(12,10))\n",
        "sns.heatmap(df_pandas.corr(),annot=True)"
      ],
      "metadata": {
        "colab": {
          "base_uri": "https://localhost:8080/",
          "height": 689
        },
        "id": "hFr1bG4Gdjrt",
        "outputId": "a55c4d2c-a592-4b31-ab10-4c068548aab0"
      },
      "execution_count": 12,
      "outputs": [
        {
          "output_type": "execute_result",
          "data": {
            "text/plain": [
              "<matplotlib.axes._subplots.AxesSubplot at 0x7f83e8165210>"
            ]
          },
          "metadata": {},
          "execution_count": 12
        },
        {
          "output_type": "display_data",
          "data": {
            "text/plain": [
              "<Figure size 864x720 with 2 Axes>"
            ],
            "image/png": "[encoded data removed]"
          },
          "metadata": {
            "needs_background": "light"
          }
        }
      ]
    },
    {
      "cell_type": "code",
      "source": [
        "# Histograma pentru distributia coloanei 'popularity'\n",
        "\n",
        "plt.figure(figsize=(12, 5))\n",
        "sns.histplot(df_pandas['popularity'], kde=True)"
      ],
      "metadata": {
        "colab": {
          "base_uri": "https://localhost:8080/",
          "height": 351
        },
        "id": "AUEU260936-L",
        "outputId": "cb8b72b1-cc1e-4057-833f-b1c2b0447dcc"
      },
      "execution_count": 68,
      "outputs": [
        {
          "output_type": "execute_result",
          "data": {
            "text/plain": [
              "<matplotlib.axes._subplots.AxesSubplot at 0x7f83e515b650>"
            ]
          },
          "metadata": {},
          "execution_count": 68
        },
        {
          "output_type": "display_data",
          "data": {
            "text/plain": [
              "<Figure size 864x360 with 1 Axes>"
            ],
            "image/png": "[encoded data removed]"
          },
          "metadata": {
            "needs_background": "light"
          }
        }
      ]
    },
    {
      "cell_type": "code",
      "source": [
        "# Histograma pentru variabila 'valence'\n",
        "\n",
        "plt.figure(figsize=(12,8))\n",
        "plt.hist(df_pandas['valence'], bins=10)"
      ],
      "metadata": {
        "colab": {
          "base_uri": "https://localhost:8080/",
          "height": 552
        },
        "id": "fKNOIObgd6we",
        "outputId": "10ab13aa-ce3f-487b-e556-bfd2fe1bbf9c"
      },
      "execution_count": 13,
      "outputs": [
        {
          "output_type": "execute_result",
          "data": {
            "text/plain": [
              "(array([ 56., 114., 163., 235., 261., 304., 275., 252., 209., 131.]),\n",
              " array([0.0381 , 0.13159, 0.22508, 0.31857, 0.41206, 0.50555, 0.59904,\n",
              "        0.69253, 0.78602, 0.87951, 0.973  ]),\n",
              " <a list of 10 Patch objects>)"
            ]
          },
          "metadata": {},
          "execution_count": 13
        },
        {
          "output_type": "display_data",
          "data": {
            "text/plain": [
              "<Figure size 864x576 with 1 Axes>"
            ],
            "image/png": "[encoded data removed]"
          },
          "metadata": {
            "needs_background": "light"
          }
        }
      ]
    },
    {
      "cell_type": "markdown",
      "source": [
        "In histograma realizata pentru variabila 'valence' se poate observa ca predomina in top cantecele cu o valenta ridicata. Asa cum am scris si mai sus, la prezentarea atributelor din setul de date, o valenta crescuta indica de obicei o melodie cu un ton vesel, fericit si euforic, in timp ce o melodie cu valenta scazuta indica un cantec cu ton trist, deprimat, negativ. Deci, uitandu-ne la histograma de mai sus se poate deduce ca majoritatea hiturilor par sa fie melodii cu un ton vesel."
      ],
      "metadata": {
        "id": "DCer8lOVfQ_5"
      }
    },
    {
      "cell_type": "markdown",
      "source": [
        "### 4. Verificarea si prelucrarea datelor\n",
        "\n",
        "  Se vor sterge coloanele'artist' si 'song' fiind considerate irelevante in procesul de predictie ce va urma, apoi se verifica fiecare coloana ramasa pentru a vedea daca exista valori null. De asemenea, se afiseaza valorile din coloana 'genre' si se ia o decizie asupra modului in care vor fi utilizate datele de acolo. Se va folosi StringIndexer pentru transformarea in variabila categoriala a variabilei string 'genre' si se va crea un vector denumit \"features\", format din coloanele relevante, folosind VectorAssembler."
      ],
      "metadata": {
        "id": "mwktg5vnnUbF"
      }
    },
    {
      "cell_type": "code",
      "source": [
        "# Se sterg coloanele 'artist' si 'song'\n",
        "\n",
        "df = df.drop('artist')\n",
        "df = df.drop('song')\n",
        "df.columns"
      ],
      "metadata": {
        "colab": {
          "base_uri": "https://localhost:8080/",
          "height": 0
        },
        "id": "2tbwPKuR7Xd1",
        "outputId": "c6c24bba-ed82-47cd-a2f3-665de5ca6d43"
      },
      "execution_count": 97,
      "outputs": [
        {
          "output_type": "execute_result",
          "data": {
            "text/plain": [
              "['duration_ms',\n",
              " 'explicit',\n",
              " 'year',\n",
              " 'popularity',\n",
              " 'danceability',\n",
              " 'energy',\n",
              " 'key',\n",
              " 'loudness',\n",
              " 'mode',\n",
              " 'speechiness',\n",
              " 'acousticness',\n",
              " 'instrumentalness',\n",
              " 'liveness',\n",
              " 'valence',\n",
              " 'tempo',\n",
              " 'genre']"
            ]
          },
          "metadata": {},
          "execution_count": 97
        }
      ]
    },
    {
      "cell_type": "code",
      "source": [
        "# Se verifica daca exista valori null si se afiseaza cate valori null sunt pentru fiecare coloana\n",
        "\n",
        "df_agg= df.agg(*[f.count(f.when(f.isnull(c), c)).alias(c) for c in df.columns])\n",
        "df_agg.show()"
      ],
      "metadata": {
        "colab": {
          "base_uri": "https://localhost:8080/",
          "height": 0
        },
        "id": "30ZLA56eEJgA",
        "outputId": "1addfdd0-6bea-42ec-f247-209e43dcce25"
      },
      "execution_count": 14,
      "outputs": [
        {
          "output_type": "stream",
          "name": "stdout",
          "text": [
            "+------+----+-----------+--------+----+----------+------------+------+---+--------+----+-----------+------------+----------------+--------+-------+-----+-----+\n",
            "|artist|song|duration_ms|explicit|year|popularity|danceability|energy|key|loudness|mode|speechiness|acousticness|instrumentalness|liveness|valence|tempo|genre|\n",
            "+------+----+-----------+--------+----+----------+------------+------+---+--------+----+-----------+------------+----------------+--------+-------+-----+-----+\n",
            "|     0|   0|          0|       0|   0|         0|           0|     0|  0|       0|   0|          0|           0|               0|       0|      0|    0|    0|\n",
            "+------+----+-----------+--------+----+----------+------------+------+---+--------+----+-----------+------------+----------------+--------+-------+-----+-----+\n",
            "\n"
          ]
        }
      ]
    },
    {
      "cell_type": "markdown",
      "source": [
        "Se observa ca nu sunt valori null, deci nu trebuie sterse intrari din setul de date, sau inlocuite in vreun fel datele din coloana respectiva."
      ],
      "metadata": {
        "id": "5cblLryjn-4L"
      }
    },
    {
      "cell_type": "code",
      "source": [
        "# Se obtine numarul de valori pentru coloana genre\n",
        "df2 = df.groupBy('genre').count()\n",
        "df2.orderBy(col(\"count\").desc(),col(\"genre\").asc()).show(60)"
      ],
      "metadata": {
        "colab": {
          "base_uri": "https://localhost:8080/",
          "height": 0
        },
        "id": "wycHQW89hPFR",
        "outputId": "1e53aad4-3309-4fc1-a32c-4d68e789477e"
      },
      "execution_count": 15,
      "outputs": [
        {
          "output_type": "stream",
          "name": "stdout",
          "text": [
            "+--------------------+-----+\n",
            "|               genre|count|\n",
            "+--------------------+-----+\n",
            "|                 pop|  428|\n",
            "|        hip hop, pop|  277|\n",
            "|   hip hop, pop, R&B|  244|\n",
            "|pop, Dance/Electr...|  221|\n",
            "|            pop, R&B|  178|\n",
            "|             hip hop|  124|\n",
            "|hip hop, pop, Dan...|   78|\n",
            "|                rock|   58|\n",
            "|           rock, pop|   43|\n",
            "|    Dance/Electronic|   41|\n",
            "|         rock, metal|   38|\n",
            "|          pop, latin|   28|\n",
            "|           pop, rock|   26|\n",
            "|               set()|   22|\n",
            "|hip hop, Dance/El...|   16|\n",
            "|               latin|   15|\n",
            "| hip hop, pop, latin|   14|\n",
            "|    pop, rock, metal|   14|\n",
            "|                 R&B|   13|\n",
            "|pop, rock, Dance/...|   13|\n",
            "|             country|   10|\n",
            "|  hip hop, pop, rock|    9|\n",
            "|               metal|    9|\n",
            "|  pop, Folk/Acoustic|    8|\n",
            "|        pop, country|    8|\n",
            "|rock, pop, Dance/...|    8|\n",
            "|pop, R&B, Dance/E...|    6|\n",
            "|    rock, pop, metal|    4|\n",
            "|        hip hop, R&B|    3|\n",
            "|hip hop, pop, R&B...|    3|\n",
            "|hip hop, pop, R&B...|    3|\n",
            "|  Folk/Acoustic, pop|    2|\n",
            "|World/Traditional...|    2|\n",
            "|World/Traditional...|    2|\n",
            "|World/Traditional...|    2|\n",
            "|World/Traditional...|    2|\n",
            "|  hip hop, rock, pop|    2|\n",
            "|pop, easy listeni...|    2|\n",
            "|pop, rock, Folk/A...|    2|\n",
            "|         rock, blues|    2|\n",
            "|  rock, blues, latin|    2|\n",
            "| Folk/Acoustic, rock|    1|\n",
            "|Folk/Acoustic, ro...|    1|\n",
            "|World/Traditional...|    1|\n",
            "|World/Traditional...|    1|\n",
            "|      country, latin|    1|\n",
            "|      easy listening|    1|\n",
            "|    hip hop, country|    1|\n",
            "|hip hop, latin, D...|    1|\n",
            "|hip hop, pop, cou...|    1|\n",
            "|pop, R&B, easy li...|    1|\n",
            "|pop, easy listeni...|    1|\n",
            "|rock, Dance/Elect...|    1|\n",
            "|rock, Folk/Acoust...|    1|\n",
            "|rock, Folk/Acoust...|    1|\n",
            "|rock, R&B, Folk/A...|    1|\n",
            "|     rock, classical|    1|\n",
            "|rock, easy listening|    1|\n",
            "|rock, pop, metal,...|    1|\n",
            "+--------------------+-----+\n",
            "\n"
          ]
        }
      ]
    },
    {
      "cell_type": "markdown",
      "source": [
        "Dupa cum se poate observa, exista si valori compuse in tabel, adica intrari care sunt incluse in mai mult de un gen. Avand in vedere faptul ca a doua cea mai numeroasa valoare pentru coloana gen este \"hip hop, pop\", adica o valoare compusa, si ca exista destul de sus in top intrari ce nu apartin doar unui gen, am ales sa pastrez datele asa, considerand intreaga grupare de mai multe genuri ca reprezentand un singur gen. De asemenea, varaibila gen fiind de tip string va trebui transformata in variabila categoriala pentru a putea fi utilizata mai departe."
      ],
      "metadata": {
        "id": "k88bhsGMiGU5"
      }
    },
    {
      "cell_type": "code",
      "source": [
        "#Se va folosi StringIndexer pentru a transformarea in variabila categoriala variabila string 'genre'\n",
        "\n",
        "indexer = StringIndexer(inputCol=\"genre\", outputCol=\"genre_cat\")\n",
        "indexed = indexer.fit(df).transform(df)\n",
        "indexed.columns\n"
      ],
      "metadata": {
        "colab": {
          "base_uri": "https://localhost:8080/",
          "height": 0
        },
        "id": "F_sXu_gZisD3",
        "outputId": "b88c306c-c348-4f98-f32e-0f658de0f30a"
      },
      "execution_count": 16,
      "outputs": [
        {
          "output_type": "execute_result",
          "data": {
            "text/plain": [
              "['artist',\n",
              " 'song',\n",
              " 'duration_ms',\n",
              " 'explicit',\n",
              " 'year',\n",
              " 'popularity',\n",
              " 'danceability',\n",
              " 'energy',\n",
              " 'key',\n",
              " 'loudness',\n",
              " 'mode',\n",
              " 'speechiness',\n",
              " 'acousticness',\n",
              " 'instrumentalness',\n",
              " 'liveness',\n",
              " 'valence',\n",
              " 'tempo',\n",
              " 'genre',\n",
              " 'genre_cat']"
            ]
          },
          "metadata": {},
          "execution_count": 16
        }
      ]
    },
    {
      "cell_type": "markdown",
      "source": [
        "Mai departe se va forma un vector 'features' utilizand coloanele relevante. Am ales sa includ in acesta toate atributele numerice, deoarece, conform matricei de corelatie, nu se poate spune ca existau valori ce ar fi fost mult mai reprezentative decat altele in relatie cu variabila 'popularitate'."
      ],
      "metadata": {
        "id": "yEOQroCFhzRJ"
      }
    },
    {
      "cell_type": "code",
      "source": [
        "#Se va forma un vector denumit \"features\", format din coloanele relevante. \n",
        "assembler = VectorAssembler(\n",
        "  inputCols=['duration_ms',\n",
        "             'explicit',\n",
        "             'danceability',\n",
        "             'energy',\n",
        "             'key',\n",
        "             'loudness',\n",
        "             'mode',\n",
        "             'speechiness',\n",
        "            'acousticness',\n",
        "            'instrumentalness',\n",
        "            'liveness',\n",
        "            'valence',\n",
        "            'tempo',\n",
        "            'genre_cat'],\n",
        "    outputCol=\"features\")"
      ],
      "metadata": {
        "id": "IeYjqkHKxYP0"
      },
      "execution_count": 18,
      "outputs": []
    },
    {
      "cell_type": "code",
      "source": [
        "output = assembler.transform(indexed)"
      ],
      "metadata": {
        "id": "D7VZsoyhwrdF"
      },
      "execution_count": 19,
      "outputs": []
    },
    {
      "cell_type": "code",
      "source": [
        "#Se afiseaza coloanele \"features\" și \"popularity\" (primele 20)\n",
        "output.select(\"features\", \"popularity\").show()"
      ],
      "metadata": {
        "colab": {
          "base_uri": "https://localhost:8080/",
          "height": 0
        },
        "id": "ACBOY7BQx8ZE",
        "outputId": "332ebd0f-937c-42f3-e5cd-ff18467baf8f"
      },
      "execution_count": 20,
      "outputs": [
        {
          "output_type": "stream",
          "name": "stdout",
          "text": [
            "+--------------------+----------+\n",
            "|            features|popularity|\n",
            "+--------------------+----------+\n",
            "|[211160.0,0.0,0.7...|        77|\n",
            "|[167066.0,0.0,0.4...|        79|\n",
            "|[250546.0,0.0,0.5...|        66|\n",
            "|[224493.0,0.0,0.5...|        78|\n",
            "|[200560.0,0.0,0.6...|        65|\n",
            "|[253733.0,1.0,0.7...|        69|\n",
            "|[284200.0,1.0,0.9...|        86|\n",
            "|[258560.0,0.0,0.7...|        68|\n",
            "|[271333.0,0.0,0.7...|        75|\n",
            "|[307153.0,0.0,0.7...|        77|\n",
            "|[238759.0,0.0,0.6...|         1|\n",
            "|[268863.0,0.0,0.7...|        56|\n",
            "|[306333.0,0.0,0.8...|        55|\n",
            "|[285960.0,0.0,0.5...|        62|\n",
            "|[294200.0,0.0,0.6...|        61|\n",
            "|[284000.0,0.0,0.7...|        53|\n",
            "|[245400.0,0.0,0.7...|        64|\n",
            "|[214883.0,0.0,0.6...|        73|\n",
            "|[285426.0,0.0,0.7...|        64|\n",
            "|[161506.0,1.0,0.9...|        82|\n",
            "+--------------------+----------+\n",
            "only showing top 20 rows\n",
            "\n"
          ]
        }
      ]
    },
    {
      "cell_type": "markdown",
      "source": [
        "### 5. Alegerea si implementarea modelelor\n",
        "\n",
        "Folosind setul de date ales, se doreste prezicerea popularitatii unor melodii in functie de anumite caracteristici. Pentru rezolvarea acesteia, se vor folosi 3 modele ML. Deoarece problema pusa de mine este una de regresie, modelele ML alese si implementate vor fi de tip regresie.\n",
        "\n",
        "1. Regresie Liniara\n",
        "\n",
        "  Primul pas va fi creeare unui data frame pentru regresie, folosid doar coloanele 'features' si 'popularity' apoi se va face o diviziune asupra setului de date. Datele din setul de date vor fi impartite in doua subseturi: unul pentru antrenarea modelului si unul pentru testarea lui, procentele utilizate la impartire fiind 70% pentru cel de antrenare si 30% pentru cel de testare. Se va creea apoi un obiect de tip Linear Regresion, se antreneaza modelul si se testeaza.\n",
        "\n",
        "2. Random Forest\n",
        "\n",
        "  Pentru acest model am ales sa creez un nou vector, numit 'features2', in care am utilizat doar variabilele 'explicit', 'danceability', 'energy', 'key', 'loudness', 'mode', 'speechiness', 'instrumentalness', 'valence' si 'tempo'. Se creeaza un data frame nou, utilizand 'popularity' si 'features2' si se imparte iarasi setul de date in date de antrenare si date de testare, folosind procentul 70% pentru datele de antrenare si 30% pentru cele de testare. Apoi se creeaza un obiect de tip Random Forest Regressor cu coloanele 'popularity' si 'features2' si un pipeline. Se antreneaza modelul utilizand pipeline-ul creeat, apoi se testeaza si se evalueaza rezultatul obtinut.\n",
        "\n",
        "3. Gradient-boosted tree regression\n",
        "\n",
        "  Pentru acest model voi folosi acelasi vectpr de features creeat la al doilea model si anume 'features2' si aceleasi seturi de date de antrenament si de testare. Prima data se creeaza un obiect de tipul GBTRegressor si un nou pipeline, apoi se antreneaza modelul folosind pipeline-ul. Se fac predictii pe baza setului de date de test, utilizand modelul antrenat si se evalueaza predictiile."
      ],
      "metadata": {
        "id": "43j5Bt9v0U3h"
      }
    },
    {
      "cell_type": "markdown",
      "source": [
        "LINEAR REGRESSION"
      ],
      "metadata": {
        "id": "3lnIZlKwrhA5"
      }
    },
    {
      "cell_type": "code",
      "source": [
        "# Se creeaza un dataframe doar cu aceste 2 coloane\n",
        "\n",
        "df_linear_regression = output.select(\"features\", \"popularity\")"
      ],
      "metadata": {
        "id": "Y58Y-v4pyHlj"
      },
      "execution_count": null,
      "outputs": []
    },
    {
      "cell_type": "code",
      "source": [
        "# Se face o diviziune a setului de date în subseturi pentru antrenare si testare testare. Procentele vor fi 70%, respectiv 30%.\n",
        "trainData,testData = df_linear_regression.randomSplit([0.7,0.3])"
      ],
      "metadata": {
        "id": "UjOKI-x0yQT2"
      },
      "execution_count": null,
      "outputs": []
    },
    {
      "cell_type": "code",
      "source": [
        "#Se afiseaza statistici asupra datelor pentru training\n",
        "trainData.describe().show()"
      ],
      "metadata": {
        "colab": {
          "base_uri": "https://localhost:8080/"
        },
        "id": "wFOeaspGyhNH",
        "outputId": "3c28c790-0fd6-439a-88aa-d6b6835266e1"
      },
      "execution_count": null,
      "outputs": [
        {
          "output_type": "stream",
          "name": "stdout",
          "text": [
            "+-------+------------------+\n",
            "|summary|        popularity|\n",
            "+-------+------------------+\n",
            "|  count|              1372|\n",
            "|   mean|59.498542274052475|\n",
            "| stddev| 21.72544342726445|\n",
            "|    min|                 0|\n",
            "|    max|                89|\n",
            "+-------+------------------+\n",
            "\n"
          ]
        }
      ]
    },
    {
      "cell_type": "code",
      "source": [
        "#Se afiseaza statistici asupra datelor pentru test\n",
        "testData.describe().show()"
      ],
      "metadata": {
        "colab": {
          "base_uri": "https://localhost:8080/"
        },
        "id": "3cJZ_3ezy0Hb",
        "outputId": "5bb0cbd8-a9c6-4d95-eeb6-65d7d2d43e4c"
      },
      "execution_count": null,
      "outputs": [
        {
          "output_type": "stream",
          "name": "stdout",
          "text": [
            "+-------+------------------+\n",
            "|summary|        popularity|\n",
            "+-------+------------------+\n",
            "|  count|               628|\n",
            "|   mean|60.689490445859875|\n",
            "| stddev|20.451149663208614|\n",
            "|    min|                 0|\n",
            "|    max|                88|\n",
            "+-------+------------------+\n",
            "\n"
          ]
        }
      ]
    },
    {
      "cell_type": "code",
      "source": [
        "# Se creeaza un obiect de tip LinearRegression\n",
        "lr = LinearRegression(labelCol='popularity')"
      ],
      "metadata": {
        "id": "sEVu0IRmyfrk"
      },
      "execution_count": null,
      "outputs": []
    },
    {
      "cell_type": "code",
      "source": [
        "# Se antreneaza modelul\n",
        "lrModel = lr.fit(trainData)"
      ],
      "metadata": {
        "id": "MUMuYnfAyqwz"
      },
      "execution_count": null,
      "outputs": []
    },
    {
      "cell_type": "code",
      "source": [
        "# Se afiseaza coeficientii si interceptia pentru regresia liniara\n",
        "print(\"Coefficients: {} Intercept: {}\".format(lrModel.coefficients,lrModel.intercept))"
      ],
      "metadata": {
        "colab": {
          "base_uri": "https://localhost:8080/"
        },
        "id": "bKPk6OOkyzJJ",
        "outputId": "6b0789a3-7f6e-4656-dae8-a93ca9d3ef37"
      },
      "execution_count": null,
      "outputs": [
        {
          "output_type": "stream",
          "name": "stdout",
          "text": [
            "Coefficients: [3.939419358086384e-05,1.9804784664542867,-5.173406349284654,-10.658491042788786,-0.09235787751284606,1.1275811080340679,-1.0185931385987248,1.5441439051619248,5.2077161370692675,-13.160501893233178,-1.9665128313477875,0.8998358772073576,0.0013379322749734548,0.03262993775734032] Intercept: 67.2702220575919\n"
          ]
        }
      ]
    },
    {
      "cell_type": "code",
      "source": [
        "#Se evalueaza modelul pe datele de testare\n",
        "results = lrModel.evaluate(testData)"
      ],
      "metadata": {
        "id": "MmAGgzoay_sE"
      },
      "execution_count": null,
      "outputs": []
    },
    {
      "cell_type": "code",
      "source": [
        "# Se afiseaza informatiile obtinute dupa evaluare \n",
        "print(\"RMSE: {}\".format(results.rootMeanSquaredError))\n",
        "print(\"MSE: {}\".format(results.meanSquaredError))\n",
        "print(\"R2: {}\".format(results.r2))"
      ],
      "metadata": {
        "colab": {
          "base_uri": "https://localhost:8080/"
        },
        "id": "lj4heuAnzF54",
        "outputId": "a0f78888-792b-4b65-bae8-5f6846c5f997"
      },
      "execution_count": null,
      "outputs": [
        {
          "output_type": "stream",
          "name": "stdout",
          "text": [
            "RMSE: 20.773414010086253\n",
            "MSE: 431.5347296344478\n",
            "R2: -0.033409387199559326\n"
          ]
        }
      ]
    },
    {
      "cell_type": "code",
      "source": [
        "# Se afiseaza valorile reziduale\n",
        "results.residuals.show()"
      ],
      "metadata": {
        "colab": {
          "base_uri": "https://localhost:8080/"
        },
        "id": "G2bgvpmOzlfC",
        "outputId": "38ee4c03-2d47-4348-dd7c-394c268fda26"
      },
      "execution_count": null,
      "outputs": [
        {
          "output_type": "stream",
          "name": "stdout",
          "text": [
            "+--------------------+\n",
            "|           residuals|\n",
            "+--------------------+\n",
            "|  21.652972661839392|\n",
            "|  25.077750980152828|\n",
            "| -50.910914161495775|\n",
            "|   2.159522545542657|\n",
            "|   21.73265916605169|\n",
            "| -12.356734245566123|\n",
            "| -50.432759355479504|\n",
            "|  0.9846883744631043|\n",
            "| -14.566564619892418|\n",
            "|  -7.801268867453686|\n",
            "|   8.520262865642117|\n",
            "|   4.727084495405094|\n",
            "|-0.14343902533298802|\n",
            "|   7.210548252080976|\n",
            "|  21.575182493473086|\n",
            "|  13.648722525142482|\n",
            "|   -7.49211244179191|\n",
            "|  12.566787472630544|\n",
            "|  22.444600893085067|\n",
            "|  13.920676963816021|\n",
            "+--------------------+\n",
            "only showing top 20 rows\n",
            "\n"
          ]
        }
      ]
    },
    {
      "cell_type": "code",
      "source": [
        "# Sa se afiseze corelatia intre 'popularity' si 'speechiness'\n",
        "from pyspark.sql.functions import corr\n",
        "df.select(corr('popularity','speechiness')).show()\n"
      ],
      "metadata": {
        "colab": {
          "base_uri": "https://localhost:8080/"
        },
        "id": "2by0O0MazlCQ",
        "outputId": "4d64de51-021b-4a04-9e0b-7fd1b9634c42"
      },
      "execution_count": null,
      "outputs": [
        {
          "output_type": "stream",
          "name": "stdout",
          "text": [
            "+-----------------------------+\n",
            "|corr(popularity, speechiness)|\n",
            "+-----------------------------+\n",
            "|         0.021162352578132707|\n",
            "+-----------------------------+\n",
            "\n"
          ]
        }
      ]
    },
    {
      "cell_type": "code",
      "source": [
        "# Sa se afiseze corelatia intre 'popularity' si 'loudness'\n",
        "from pyspark.sql.functions import corr\n",
        "df.select(corr('popularity','loudness')).show()"
      ],
      "metadata": {
        "colab": {
          "base_uri": "https://localhost:8080/"
        },
        "id": "tx9EFPUGbCYW",
        "outputId": "97aaa0ce-aad6-456c-c8fa-3c8b19bb0751"
      },
      "execution_count": null,
      "outputs": [
        {
          "output_type": "stream",
          "name": "stdout",
          "text": [
            "+--------------------------+\n",
            "|corr(popularity, loudness)|\n",
            "+--------------------------+\n",
            "|      0.030632316459533623|\n",
            "+--------------------------+\n",
            "\n"
          ]
        }
      ]
    },
    {
      "cell_type": "code",
      "source": [
        "#Aplicați modelul pe datele de test neetichetate\n",
        "unlabeled_data=testData.select(\"features\")\n",
        "predictions = lrModel.transform(unlabeled_data)\n",
        "predictions.show()"
      ],
      "metadata": {
        "colab": {
          "base_uri": "https://localhost:8080/"
        },
        "id": "PhQci4it1nJU",
        "outputId": "17137892-d457-413a-e6fd-c145308ec45b"
      },
      "execution_count": null,
      "outputs": [
        {
          "output_type": "stream",
          "name": "stdout",
          "text": [
            "+--------------------+------------------+\n",
            "|            features|        prediction|\n",
            "+--------------------+------------------+\n",
            "|[113000.0,0.0,0.9...| 54.34702733816061|\n",
            "|[119133.0,1.0,0.8...| 57.92224901984717|\n",
            "|[129264.0,1.0,0.9...|51.910914161495775|\n",
            "|[144244.0,0.0,0.8...| 54.84047745445734|\n",
            "|[149546.0,1.0,0.8...| 57.26734083394831|\n",
            "|[150533.0,0.0,0.8...| 51.35673424556612|\n",
            "|[150533.0,0.0,0.8...|50.432759355479504|\n",
            "|[151640.0,0.0,0.7...|60.015311625536896|\n",
            "|[151973.0,0.0,0.7...| 57.56656461989242|\n",
            "|[156773.0,1.0,0.7...|58.801268867453686|\n",
            "|[157293.0,0.0,0.4...| 57.47973713435788|\n",
            "|[157643.0,1.0,0.6...|58.272915504594906|\n",
            "|[161240.0,0.0,0.8...| 56.14343902533299|\n",
            "|[161746.0,0.0,0.7...|55.789451747919024|\n",
            "|[161920.0,0.0,0.4...|58.424817506526914|\n",
            "|[163320.0,1.0,0.8...| 58.35127747485752|\n",
            "|[164506.0,1.0,0.6...| 56.49211244179191|\n",
            "|[165440.0,0.0,0.6...|54.433212527369456|\n",
            "|[165853.0,0.0,0.6...| 55.55539910691493|\n",
            "|[166373.0,1.0,0.5...| 59.07932303618398|\n",
            "+--------------------+------------------+\n",
            "only showing top 20 rows\n",
            "\n"
          ]
        }
      ]
    },
    {
      "cell_type": "code",
      "source": [
        "testData.show()"
      ],
      "metadata": {
        "colab": {
          "base_uri": "https://localhost:8080/"
        },
        "id": "9HOkHbwyaFR9",
        "outputId": "bbd9ce76-194b-4514-9506-a2fddbe50136"
      },
      "execution_count": null,
      "outputs": [
        {
          "output_type": "stream",
          "name": "stdout",
          "text": [
            "+--------------------+----------+\n",
            "|            features|popularity|\n",
            "+--------------------+----------+\n",
            "|[113000.0,0.0,0.9...|        76|\n",
            "|[119133.0,1.0,0.8...|        83|\n",
            "|[129264.0,1.0,0.9...|         1|\n",
            "|[144244.0,0.0,0.8...|        57|\n",
            "|[149546.0,1.0,0.8...|        79|\n",
            "|[150533.0,0.0,0.8...|        39|\n",
            "|[150533.0,0.0,0.8...|         0|\n",
            "|[151640.0,0.0,0.7...|        61|\n",
            "|[151973.0,0.0,0.7...|        43|\n",
            "|[156773.0,1.0,0.7...|        51|\n",
            "|[157293.0,0.0,0.4...|        66|\n",
            "|[157643.0,1.0,0.6...|        63|\n",
            "|[161240.0,0.0,0.8...|        56|\n",
            "|[161746.0,0.0,0.7...|        63|\n",
            "|[161920.0,0.0,0.4...|        80|\n",
            "|[163320.0,1.0,0.8...|        72|\n",
            "|[164506.0,1.0,0.6...|        49|\n",
            "|[165440.0,0.0,0.6...|        67|\n",
            "|[165853.0,0.0,0.6...|        78|\n",
            "|[166373.0,1.0,0.5...|        73|\n",
            "+--------------------+----------+\n",
            "only showing top 20 rows\n",
            "\n"
          ]
        }
      ]
    },
    {
      "cell_type": "markdown",
      "source": [
        "RANDOM FOREST"
      ],
      "metadata": {
        "id": "9bP7TnsTrOwO"
      }
    },
    {
      "cell_type": "code",
      "source": [
        "#Se creeaza un nou vector, numit 'features2'\n",
        "\n",
        "assembler = VectorAssembler(\n",
        "  inputCols=['explicit',\n",
        "             'danceability',\n",
        "             'energy',\n",
        "             'key',\n",
        "             'loudness',\n",
        "             'mode',\n",
        "             'speechiness',\n",
        "            'instrumentalness',\n",
        "            'valence',\n",
        "            'tempo'],\n",
        "    outputCol=\"features2\")\n",
        "\n",
        "output2 = assembler.transform(indexed)"
      ],
      "metadata": {
        "id": "2VBXhepwvVWn"
      },
      "execution_count": 55,
      "outputs": []
    },
    {
      "cell_type": "code",
      "source": [
        "# Se creeaza un data frame nou\n",
        "\n",
        "df_RandomForest = output2.select(\"features2\", \"popularity\")"
      ],
      "metadata": {
        "id": "UfDarc7RrXXM"
      },
      "execution_count": 56,
      "outputs": []
    },
    {
      "cell_type": "code",
      "source": [
        "# Se imparte iar setul de date in date de antrenare si date de test, cu procente 70% si 30%\n",
        "\n",
        "trainData,testData = df_RandomForest.randomSplit([0.7,0.3])"
      ],
      "metadata": {
        "id": "8G0FoCmrrZe_"
      },
      "execution_count": 57,
      "outputs": []
    },
    {
      "cell_type": "code",
      "source": [
        "#Se afiseaza statistici asupra datelor pentru training\n",
        "\n",
        "trainData.describe().show()"
      ],
      "metadata": {
        "colab": {
          "base_uri": "https://localhost:8080/",
          "height": 0
        },
        "id": "w3e00nrIsF2O",
        "outputId": "596db6a7-ae35-45c2-d20c-0a4ffaab07c8"
      },
      "execution_count": 58,
      "outputs": [
        {
          "output_type": "stream",
          "name": "stdout",
          "text": [
            "+-------+----------------+\n",
            "|summary|      popularity|\n",
            "+-------+----------------+\n",
            "|  count|            1389|\n",
            "|   mean|60.0280777537797|\n",
            "| stddev|21.2294977374443|\n",
            "|    min|               0|\n",
            "|    max|              88|\n",
            "+-------+----------------+\n",
            "\n"
          ]
        }
      ]
    },
    {
      "cell_type": "code",
      "source": [
        "#Se afiseaza statistici asupra datelor pentru test\n",
        "\n",
        "testData.describe().show()"
      ],
      "metadata": {
        "colab": {
          "base_uri": "https://localhost:8080/",
          "height": 0
        },
        "id": "eMvC25x-sIbg",
        "outputId": "b0ef012b-30c3-4a9c-c7d6-e0af84e3e8e6"
      },
      "execution_count": 59,
      "outputs": [
        {
          "output_type": "stream",
          "name": "stdout",
          "text": [
            "+-------+------------------+\n",
            "|summary|        popularity|\n",
            "+-------+------------------+\n",
            "|  count|               611|\n",
            "|   mean| 59.51882160392799|\n",
            "| stddev|21.588116553187866|\n",
            "|    min|                 0|\n",
            "|    max|                89|\n",
            "+-------+------------------+\n",
            "\n"
          ]
        }
      ]
    },
    {
      "cell_type": "code",
      "source": [
        "# Se creeaza un obiect de tip Random Forest Regressor cu coloanele 'popularity' si 'features2'\n",
        "\n",
        "rf = RandomForestRegressor(labelCol = 'popularity',\n",
        "                            featuresCol = 'features2')"
      ],
      "metadata": {
        "id": "O5rlMN-tryql"
      },
      "execution_count": 60,
      "outputs": []
    },
    {
      "cell_type": "code",
      "source": [
        "featureIndexer =\\\n",
        "    VectorIndexer(inputCol=\"features2\", outputCol=\"indexedFeatures\").fit(trainData)\n",
        "\n",
        "pipeline = Pipeline(stages=[featureIndexer, rf])"
      ],
      "metadata": {
        "id": "oPMAlf_mq7xH"
      },
      "execution_count": 61,
      "outputs": []
    },
    {
      "cell_type": "code",
      "source": [
        "# Se antreneaza modelul\n",
        "\n",
        "model = pipeline.fit(trainData)"
      ],
      "metadata": {
        "id": "2KcQPmik1cS1"
      },
      "execution_count": 62,
      "outputs": []
    },
    {
      "cell_type": "code",
      "source": [
        "# Se testeaza si se evalueaza modelul\n",
        "\n",
        "predictions = model.transform(testData)\n",
        "\n",
        "evaluator = RegressionEvaluator(\n",
        "    labelCol=\"popularity\", predictionCol=\"prediction\", metricName=\"mae\")\n",
        "\n",
        "mae = evaluator.evaluate(predictions)\n",
        "print(\"MAE on test data = %g\" % mae)\n",
        "\n",
        "rfModel = model.stages[1]\n",
        "print(rfModel)"
      ],
      "metadata": {
        "colab": {
          "base_uri": "https://localhost:8080/",
          "height": 0
        },
        "id": "WSPDENy01iMQ",
        "outputId": "6544cd3d-03ed-46e8-ef28-915ffbe71622"
      },
      "execution_count": 63,
      "outputs": [
        {
          "output_type": "stream",
          "name": "stdout",
          "text": [
            "MAE on test data = 14.8176\n",
            "RandomForestRegressionModel: uid=RandomForestRegressor_c694186409c2, numTrees=20, numFeatures=10\n"
          ]
        }
      ]
    },
    {
      "cell_type": "markdown",
      "source": [
        " GRADIENT-BOOSTED TREE REGRESSION"
      ],
      "metadata": {
        "id": "i6lADRyDs5QK"
      }
    },
    {
      "cell_type": "code",
      "source": [
        "# Se creeaza un obiect de tipul GBTRegressor\n",
        "\n",
        "gbt = GBTRegressor(labelCol = 'popularity', featuresCol=\"indexedFeatures\", maxIter=10)\n",
        "\n",
        "#Se creeaza un pipeline nou \n",
        "\n",
        "pipeline = Pipeline(stages=[featureIndexer, gbt])\n",
        "\n",
        "# Se antreneaza modelul\n",
        "model = pipeline.fit(trainData)\n",
        "\n",
        "# Se fac predictiile utilizand datele de testare\n",
        "predictions = model.transform(testData)\n",
        "\n",
        "# Se evalueaza predictiile utilizand RegressionEvaluator\n",
        "\n",
        "evaluator = RegressionEvaluator(\n",
        "    labelCol=\"popularity\", predictionCol=\"prediction\", metricName=\"mae\")\n",
        "mae = evaluator.evaluate(predictions)\n",
        "print(\"MAE on test data = %g\" % mae)\n",
        "\n",
        "gbtModel = model.stages[1]\n",
        "print(gbtModel)"
      ],
      "metadata": {
        "colab": {
          "base_uri": "https://localhost:8080/",
          "height": 0
        },
        "id": "LQDM4yc7mixD",
        "outputId": "b6097e14-a01a-4784-f1c7-02b9f96fb307"
      },
      "execution_count": 64,
      "outputs": [
        {
          "output_type": "stream",
          "name": "stdout",
          "text": [
            "MAE on test data = 16.8647\n",
            "GBTRegressionModel: uid=GBTRegressor_e5dd1d60dec2, numTrees=10, numFeatures=10\n"
          ]
        }
      ]
    },
    {
      "cell_type": "markdown",
      "source": [
        "### 6. Utilizarea unui model DL \n",
        "\n",
        "Modelul DL va fi de tip regresie si va avea ca scop rezolvarea aceleiasi probleme: prezicerea popularitatii unor melodii.\n",
        "Pentru acesta se va folosi un data frame de tip pandas din care se va sterge variabila de tip string ('genre') si se vor separa caracteristicile variabilei tinta ('popularity'), apoi se vor imparti datele in date de antrenare si date de testare. Se va aplica un feature scaling; acesta va invata pe datele de antrenare si va fi aplicat pe datele de antrenament si de test. Apoi se va creea o retea neuronala cu o arhitectura adaptata problemelor de tip regresie si se va compila modelul, avand parametrii de pe ultimul strat luati in calcul, aceasta fiind o problema de regresie si nu de clasificare. Se antreneaza modelul pentru 200 de epoci si o dimensiune a batch-ului de 128. La final, se va folosi un grafic pentru a analiza training loss-ul si validation loss-ul si se vor afisa valorile RMSE, MAE si MSLE."
      ],
      "metadata": {
        "id": "2Mfob3l78kEu"
      }
    },
    {
      "cell_type": "code",
      "source": [
        "# Se transforma data frame-ul intr-un dat frame de tip pandas\n",
        "dfdl = df.toPandas()\n",
        "\n",
        "# Se scoate coloana 'genre'\n",
        "dfdl = dfdl.drop('genre', axis = 1)\n",
        "\n",
        "# Se separa caracteristicile variabilei 'popularity'\n",
        "X = dfdl.drop('popularity', axis = 1)\n",
        "y = dfdl['popularity']\n",
        "\n",
        "# Se impart datele in date de antrenare si date de testare\n",
        "X_train, X_test, y_train, y_test = train_test_split(X, y, test_size=0.3, random_state=101)"
      ],
      "metadata": {
        "id": "Z4TukRrp8y9G"
      },
      "execution_count": 103,
      "outputs": []
    },
    {
      "cell_type": "code",
      "source": [
        "# feature scaling\n",
        "scaler = MinMaxScaler()\n",
        "\n",
        "X_train = scaler.fit_transform(X_train)\n",
        "X_test = scaler.transform(X_test)\n",
        "\n",
        "# Se afiseaza forma dataset-urilor de antrenament si de testare\n",
        "\n",
        "print(X_train.shape)\n",
        "print(X_test.shape)"
      ],
      "metadata": {
        "colab": {
          "base_uri": "https://localhost:8080/",
          "height": 0
        },
        "id": "J3KEt5it-rxs",
        "outputId": "1e2144c1-e810-4343-cdb6-048aedf623a3"
      },
      "execution_count": 105,
      "outputs": [
        {
          "output_type": "stream",
          "name": "stdout",
          "text": [
            "(1400, 14)\n",
            "(600, 14)\n"
          ]
        }
      ]
    },
    {
      "cell_type": "code",
      "source": [
        "# Se creeaza o retea neuronala ce are o arhitectura potrivita unei probleme de tip regresie\n",
        "model = Sequential()\n",
        "model.add(Dense(14, activation='relu', input_shape=(14, )))\n",
        "model.add(Dense(14, activation='relu'))\n",
        "model.add(Dense(14, activation='relu'))\n",
        "model.add(Dense(14, activation='relu'))\n",
        "model.add(Dense(1, activation='linear'))\n",
        "\n",
        "model.summary()"
      ],
      "metadata": {
        "colab": {
          "base_uri": "https://localhost:8080/",
          "height": 0
        },
        "id": "28N3FNMCB5oB",
        "outputId": "ca79a9c5-c8f0-470e-9445-14735db3e9d3"
      },
      "execution_count": 112,
      "outputs": [
        {
          "output_type": "stream",
          "name": "stdout",
          "text": [
            "Model: \"sequential_1\"\n",
            "_________________________________________________________________\n",
            " Layer (type)                Output Shape              Param #   \n",
            "=================================================================\n",
            " dense_5 (Dense)             (None, 14)                210       \n",
            "                                                                 \n",
            " dense_6 (Dense)             (None, 14)                210       \n",
            "                                                                 \n",
            " dense_7 (Dense)             (None, 14)                210       \n",
            "                                                                 \n",
            " dense_8 (Dense)             (None, 14)                210       \n",
            "                                                                 \n",
            " dense_9 (Dense)             (None, 1)                 15        \n",
            "                                                                 \n",
            "=================================================================\n",
            "Total params: 855\n",
            "Trainable params: 855\n",
            "Non-trainable params: 0\n",
            "_________________________________________________________________\n"
          ]
        }
      ]
    },
    {
      "cell_type": "code",
      "source": [
        "# Se compileaza modelul \n",
        "\n",
        "model.compile(optimizer='adam', loss='mse')"
      ],
      "metadata": {
        "id": "rtj9SrxBDEad"
      },
      "execution_count": 113,
      "outputs": []
    },
    {
      "cell_type": "code",
      "source": [
        "# Se antreneaza modelul pentru 200 de epoci si o dimensiune a batch-ului de 128.\n",
        "\n",
        "history = model.fit(x=X_train,\n",
        "                  y=y_train,\n",
        "                  validation_data=(X_test, y_test),\n",
        "                  batch_size=128, \n",
        "                  epochs=200)"
      ],
      "metadata": {
        "colab": {
          "base_uri": "https://localhost:8080/",
          "height": 0
        },
        "id": "XIXxGwysD3qT",
        "outputId": "e21fab3e-ac3a-4b69-e142-c5aa39b58af9"
      },
      "execution_count": 115,
      "outputs": [
        {
          "output_type": "stream",
          "name": "stdout",
          "text": [
            "Epoch 1/200\n",
            "11/11 [==============================] - 0s 5ms/step - loss: 466.5378 - val_loss: 572.9998\n",
            "Epoch 2/200\n",
            "11/11 [==============================] - 0s 5ms/step - loss: 465.5664 - val_loss: 571.7711\n",
            "Epoch 3/200\n",
            "11/11 [==============================] - 0s 6ms/step - loss: 463.9656 - val_loss: 567.5698\n",
            "Epoch 4/200\n",
            "11/11 [==============================] - 0s 6ms/step - loss: 463.5746 - val_loss: 564.6943\n",
            "Epoch 5/200\n",
            "11/11 [==============================] - 0s 5ms/step - loss: 462.1474 - val_loss: 567.9288\n",
            "Epoch 6/200\n",
            "11/11 [==============================] - 0s 5ms/step - loss: 461.3585 - val_loss: 567.9556\n",
            "Epoch 7/200\n",
            "11/11 [==============================] - 0s 7ms/step - loss: 460.0435 - val_loss: 562.5475\n",
            "Epoch 8/200\n",
            "11/11 [==============================] - 0s 6ms/step - loss: 459.3377 - val_loss: 562.1736\n",
            "Epoch 9/200\n",
            "11/11 [==============================] - 0s 5ms/step - loss: 458.7121 - val_loss: 562.4395\n",
            "Epoch 10/200\n",
            "11/11 [==============================] - 0s 5ms/step - loss: 457.4832 - val_loss: 560.6461\n",
            "Epoch 11/200\n",
            "11/11 [==============================] - 0s 5ms/step - loss: 456.8727 - val_loss: 559.8223\n",
            "Epoch 12/200\n",
            "11/11 [==============================] - 0s 5ms/step - loss: 456.0077 - val_loss: 560.1863\n",
            "Epoch 13/200\n",
            "11/11 [==============================] - 0s 5ms/step - loss: 455.1921 - val_loss: 558.2246\n",
            "Epoch 14/200\n",
            "11/11 [==============================] - 0s 5ms/step - loss: 454.7506 - val_loss: 555.8363\n",
            "Epoch 15/200\n",
            "11/11 [==============================] - 0s 5ms/step - loss: 454.6846 - val_loss: 558.6722\n",
            "Epoch 16/200\n",
            "11/11 [==============================] - 0s 5ms/step - loss: 453.0297 - val_loss: 555.0538\n",
            "Epoch 17/200\n",
            "11/11 [==============================] - 0s 6ms/step - loss: 452.5874 - val_loss: 553.1530\n",
            "Epoch 18/200\n",
            "11/11 [==============================] - 0s 5ms/step - loss: 451.8334 - val_loss: 554.9950\n",
            "Epoch 19/200\n",
            "11/11 [==============================] - 0s 6ms/step - loss: 451.5320 - val_loss: 553.0302\n",
            "Epoch 20/200\n",
            "11/11 [==============================] - 0s 6ms/step - loss: 450.7446 - val_loss: 553.4131\n",
            "Epoch 21/200\n",
            "11/11 [==============================] - 0s 6ms/step - loss: 450.2138 - val_loss: 554.4830\n",
            "Epoch 22/200\n",
            "11/11 [==============================] - 0s 5ms/step - loss: 449.8774 - val_loss: 552.0207\n",
            "Epoch 23/200\n",
            "11/11 [==============================] - 0s 5ms/step - loss: 449.5377 - val_loss: 546.6423\n",
            "Epoch 24/200\n",
            "11/11 [==============================] - 0s 5ms/step - loss: 448.4138 - val_loss: 551.4805\n",
            "Epoch 25/200\n",
            "11/11 [==============================] - 0s 7ms/step - loss: 448.2361 - val_loss: 552.3189\n",
            "Epoch 26/200\n",
            "11/11 [==============================] - 0s 7ms/step - loss: 446.9305 - val_loss: 547.9114\n",
            "Epoch 27/200\n",
            "11/11 [==============================] - 0s 4ms/step - loss: 447.2713 - val_loss: 546.1465\n",
            "Epoch 28/200\n",
            "11/11 [==============================] - 0s 5ms/step - loss: 446.1272 - val_loss: 549.4720\n",
            "Epoch 29/200\n",
            "11/11 [==============================] - 0s 6ms/step - loss: 445.6981 - val_loss: 547.3494\n",
            "Epoch 30/200\n",
            "11/11 [==============================] - 0s 5ms/step - loss: 445.2058 - val_loss: 546.7803\n",
            "Epoch 31/200\n",
            "11/11 [==============================] - 0s 6ms/step - loss: 444.7370 - val_loss: 544.4877\n",
            "Epoch 32/200\n",
            "11/11 [==============================] - 0s 5ms/step - loss: 444.2713 - val_loss: 546.5763\n",
            "Epoch 33/200\n",
            "11/11 [==============================] - 0s 6ms/step - loss: 444.3339 - val_loss: 542.9641\n",
            "Epoch 34/200\n",
            "11/11 [==============================] - 0s 6ms/step - loss: 443.2962 - val_loss: 547.9151\n",
            "Epoch 35/200\n",
            "11/11 [==============================] - 0s 6ms/step - loss: 442.9650 - val_loss: 542.5206\n",
            "Epoch 36/200\n",
            "11/11 [==============================] - 0s 6ms/step - loss: 442.4377 - val_loss: 542.2599\n",
            "Epoch 37/200\n",
            "11/11 [==============================] - 0s 6ms/step - loss: 442.5828 - val_loss: 545.8622\n",
            "Epoch 38/200\n",
            "11/11 [==============================] - 0s 6ms/step - loss: 441.6452 - val_loss: 542.6735\n",
            "Epoch 39/200\n",
            "11/11 [==============================] - 0s 5ms/step - loss: 440.8963 - val_loss: 541.4951\n",
            "Epoch 40/200\n",
            "11/11 [==============================] - 0s 7ms/step - loss: 440.9600 - val_loss: 540.7794\n",
            "Epoch 41/200\n",
            "11/11 [==============================] - 0s 6ms/step - loss: 440.2946 - val_loss: 539.7075\n",
            "Epoch 42/200\n",
            "11/11 [==============================] - 0s 5ms/step - loss: 439.7123 - val_loss: 540.1912\n",
            "Epoch 43/200\n",
            "11/11 [==============================] - 0s 5ms/step - loss: 439.2737 - val_loss: 540.2911\n",
            "Epoch 44/200\n",
            "11/11 [==============================] - 0s 6ms/step - loss: 439.2596 - val_loss: 536.4408\n",
            "Epoch 45/200\n",
            "11/11 [==============================] - 0s 5ms/step - loss: 438.8949 - val_loss: 539.6499\n",
            "Epoch 46/200\n",
            "11/11 [==============================] - 0s 5ms/step - loss: 438.1626 - val_loss: 537.5842\n",
            "Epoch 47/200\n",
            "11/11 [==============================] - 0s 5ms/step - loss: 437.8096 - val_loss: 537.6783\n",
            "Epoch 48/200\n",
            "11/11 [==============================] - 0s 5ms/step - loss: 437.3591 - val_loss: 538.5172\n",
            "Epoch 49/200\n",
            "11/11 [==============================] - 0s 6ms/step - loss: 437.2524 - val_loss: 536.8322\n",
            "Epoch 50/200\n",
            "11/11 [==============================] - 0s 5ms/step - loss: 436.8076 - val_loss: 535.1180\n",
            "Epoch 51/200\n",
            "11/11 [==============================] - 0s 6ms/step - loss: 436.3419 - val_loss: 536.3182\n",
            "Epoch 52/200\n",
            "11/11 [==============================] - 0s 4ms/step - loss: 436.8093 - val_loss: 538.0132\n",
            "Epoch 53/200\n",
            "11/11 [==============================] - 0s 6ms/step - loss: 436.8255 - val_loss: 531.4425\n",
            "Epoch 54/200\n",
            "11/11 [==============================] - 0s 5ms/step - loss: 434.9183 - val_loss: 537.6190\n",
            "Epoch 55/200\n",
            "11/11 [==============================] - 0s 7ms/step - loss: 435.4969 - val_loss: 537.8135\n",
            "Epoch 56/200\n",
            "11/11 [==============================] - 0s 6ms/step - loss: 434.7490 - val_loss: 534.3896\n",
            "Epoch 57/200\n",
            "11/11 [==============================] - 0s 5ms/step - loss: 434.9275 - val_loss: 531.6141\n",
            "Epoch 58/200\n",
            "11/11 [==============================] - 0s 5ms/step - loss: 435.2316 - val_loss: 537.7126\n",
            "Epoch 59/200\n",
            "11/11 [==============================] - 0s 6ms/step - loss: 433.9823 - val_loss: 531.9211\n",
            "Epoch 60/200\n",
            "11/11 [==============================] - 0s 5ms/step - loss: 433.6098 - val_loss: 533.0286\n",
            "Epoch 61/200\n",
            "11/11 [==============================] - 0s 5ms/step - loss: 433.5148 - val_loss: 533.0856\n",
            "Epoch 62/200\n",
            "11/11 [==============================] - 0s 5ms/step - loss: 433.1812 - val_loss: 533.3414\n",
            "Epoch 63/200\n",
            "11/11 [==============================] - 0s 5ms/step - loss: 434.3595 - val_loss: 535.8328\n",
            "Epoch 64/200\n",
            "11/11 [==============================] - 0s 6ms/step - loss: 432.6616 - val_loss: 528.9957\n",
            "Epoch 65/200\n",
            "11/11 [==============================] - 0s 6ms/step - loss: 431.8340 - val_loss: 536.1832\n",
            "Epoch 66/200\n",
            "11/11 [==============================] - 0s 6ms/step - loss: 431.7786 - val_loss: 533.4468\n",
            "Epoch 67/200\n",
            "11/11 [==============================] - 0s 6ms/step - loss: 431.4574 - val_loss: 533.2446\n",
            "Epoch 68/200\n",
            "11/11 [==============================] - 0s 6ms/step - loss: 431.3574 - val_loss: 529.8513\n",
            "Epoch 69/200\n",
            "11/11 [==============================] - 0s 5ms/step - loss: 432.0678 - val_loss: 538.2432\n",
            "Epoch 70/200\n",
            "11/11 [==============================] - 0s 6ms/step - loss: 430.1529 - val_loss: 530.1096\n",
            "Epoch 71/200\n",
            "11/11 [==============================] - 0s 5ms/step - loss: 429.8071 - val_loss: 531.0938\n",
            "Epoch 72/200\n",
            "11/11 [==============================] - 0s 6ms/step - loss: 429.7336 - val_loss: 534.4520\n",
            "Epoch 73/200\n",
            "11/11 [==============================] - 0s 6ms/step - loss: 429.8156 - val_loss: 530.0278\n",
            "Epoch 74/200\n",
            "11/11 [==============================] - 0s 6ms/step - loss: 429.2059 - val_loss: 535.1568\n",
            "Epoch 75/200\n",
            "11/11 [==============================] - 0s 5ms/step - loss: 428.6299 - val_loss: 532.3372\n",
            "Epoch 76/200\n",
            "11/11 [==============================] - 0s 5ms/step - loss: 428.2250 - val_loss: 529.2604\n",
            "Epoch 77/200\n",
            "11/11 [==============================] - 0s 5ms/step - loss: 428.7671 - val_loss: 534.2528\n",
            "Epoch 78/200\n",
            "11/11 [==============================] - 0s 5ms/step - loss: 427.0015 - val_loss: 528.7542\n",
            "Epoch 79/200\n",
            "11/11 [==============================] - 0s 5ms/step - loss: 427.1058 - val_loss: 530.7953\n",
            "Epoch 80/200\n",
            "11/11 [==============================] - 0s 6ms/step - loss: 427.1941 - val_loss: 532.5782\n",
            "Epoch 81/200\n",
            "11/11 [==============================] - 0s 5ms/step - loss: 427.6945 - val_loss: 528.8630\n",
            "Epoch 82/200\n",
            "11/11 [==============================] - 0s 6ms/step - loss: 426.7747 - val_loss: 532.8838\n",
            "Epoch 83/200\n",
            "11/11 [==============================] - 0s 5ms/step - loss: 425.6437 - val_loss: 530.6891\n",
            "Epoch 84/200\n",
            "11/11 [==============================] - 0s 6ms/step - loss: 425.8473 - val_loss: 530.9856\n",
            "Epoch 85/200\n",
            "11/11 [==============================] - 0s 7ms/step - loss: 424.9884 - val_loss: 532.1227\n",
            "Epoch 86/200\n",
            "11/11 [==============================] - 0s 5ms/step - loss: 424.6851 - val_loss: 531.2991\n",
            "Epoch 87/200\n",
            "11/11 [==============================] - 0s 4ms/step - loss: 424.8966 - val_loss: 530.0462\n",
            "Epoch 88/200\n",
            "11/11 [==============================] - 0s 5ms/step - loss: 424.5824 - val_loss: 530.6357\n",
            "Epoch 89/200\n",
            "11/11 [==============================] - 0s 5ms/step - loss: 423.9958 - val_loss: 528.6071\n",
            "Epoch 90/200\n",
            "11/11 [==============================] - 0s 6ms/step - loss: 423.5114 - val_loss: 531.0835\n",
            "Epoch 91/200\n",
            "11/11 [==============================] - 0s 6ms/step - loss: 423.1736 - val_loss: 530.9056\n",
            "Epoch 92/200\n",
            "11/11 [==============================] - 0s 5ms/step - loss: 422.6564 - val_loss: 530.4807\n",
            "Epoch 93/200\n",
            "11/11 [==============================] - 0s 5ms/step - loss: 422.7373 - val_loss: 531.9676\n",
            "Epoch 94/200\n",
            "11/11 [==============================] - 0s 6ms/step - loss: 422.4828 - val_loss: 528.8347\n",
            "Epoch 95/200\n",
            "11/11 [==============================] - 0s 7ms/step - loss: 421.6474 - val_loss: 530.6963\n",
            "Epoch 96/200\n",
            "11/11 [==============================] - 0s 7ms/step - loss: 421.9832 - val_loss: 530.3481\n",
            "Epoch 97/200\n",
            "11/11 [==============================] - 0s 4ms/step - loss: 421.2373 - val_loss: 530.3710\n",
            "Epoch 98/200\n",
            "11/11 [==============================] - 0s 6ms/step - loss: 421.0730 - val_loss: 531.1674\n",
            "Epoch 99/200\n",
            "11/11 [==============================] - 0s 7ms/step - loss: 421.2070 - val_loss: 528.1363\n",
            "Epoch 100/200\n",
            "11/11 [==============================] - 0s 5ms/step - loss: 420.5925 - val_loss: 535.1760\n",
            "Epoch 101/200\n",
            "11/11 [==============================] - 0s 5ms/step - loss: 420.3074 - val_loss: 527.7684\n",
            "Epoch 102/200\n",
            "11/11 [==============================] - 0s 7ms/step - loss: 419.9343 - val_loss: 530.5684\n",
            "Epoch 103/200\n",
            "11/11 [==============================] - 0s 5ms/step - loss: 419.8580 - val_loss: 528.8892\n",
            "Epoch 104/200\n",
            "11/11 [==============================] - 0s 6ms/step - loss: 419.4809 - val_loss: 528.2490\n",
            "Epoch 105/200\n",
            "11/11 [==============================] - 0s 6ms/step - loss: 418.8046 - val_loss: 531.2623\n",
            "Epoch 106/200\n",
            "11/11 [==============================] - 0s 5ms/step - loss: 418.6510 - val_loss: 530.4607\n",
            "Epoch 107/200\n",
            "11/11 [==============================] - 0s 5ms/step - loss: 419.0287 - val_loss: 531.0113\n",
            "Epoch 108/200\n",
            "11/11 [==============================] - 0s 5ms/step - loss: 418.7428 - val_loss: 532.1357\n",
            "Epoch 109/200\n",
            "11/11 [==============================] - 0s 5ms/step - loss: 417.9778 - val_loss: 530.9245\n",
            "Epoch 110/200\n",
            "11/11 [==============================] - 0s 6ms/step - loss: 417.3575 - val_loss: 530.7759\n",
            "Epoch 111/200\n",
            "11/11 [==============================] - 0s 6ms/step - loss: 417.5754 - val_loss: 532.3379\n",
            "Epoch 112/200\n",
            "11/11 [==============================] - 0s 6ms/step - loss: 416.8620 - val_loss: 529.8145\n",
            "Epoch 113/200\n",
            "11/11 [==============================] - 0s 4ms/step - loss: 416.8693 - val_loss: 530.0439\n",
            "Epoch 114/200\n",
            "11/11 [==============================] - 0s 6ms/step - loss: 416.5043 - val_loss: 529.2419\n",
            "Epoch 115/200\n",
            "11/11 [==============================] - 0s 5ms/step - loss: 416.3898 - val_loss: 528.8654\n",
            "Epoch 116/200\n",
            "11/11 [==============================] - 0s 5ms/step - loss: 416.3929 - val_loss: 532.0461\n",
            "Epoch 117/200\n",
            "11/11 [==============================] - 0s 5ms/step - loss: 416.1344 - val_loss: 536.7956\n",
            "Epoch 118/200\n",
            "11/11 [==============================] - 0s 5ms/step - loss: 415.2825 - val_loss: 527.6226\n",
            "Epoch 119/200\n",
            "11/11 [==============================] - 0s 5ms/step - loss: 415.5195 - val_loss: 531.1833\n",
            "Epoch 120/200\n",
            "11/11 [==============================] - 0s 6ms/step - loss: 415.5023 - val_loss: 533.2319\n",
            "Epoch 121/200\n",
            "11/11 [==============================] - 0s 6ms/step - loss: 414.4834 - val_loss: 528.1301\n",
            "Epoch 122/200\n",
            "11/11 [==============================] - 0s 5ms/step - loss: 414.5317 - val_loss: 530.1519\n",
            "Epoch 123/200\n",
            "11/11 [==============================] - 0s 5ms/step - loss: 415.3622 - val_loss: 528.9079\n",
            "Epoch 124/200\n",
            "11/11 [==============================] - 0s 5ms/step - loss: 414.1718 - val_loss: 529.6359\n",
            "Epoch 125/200\n",
            "11/11 [==============================] - 0s 5ms/step - loss: 414.6983 - val_loss: 530.7335\n",
            "Epoch 126/200\n",
            "11/11 [==============================] - 0s 5ms/step - loss: 413.8194 - val_loss: 531.6689\n",
            "Epoch 127/200\n",
            "11/11 [==============================] - 0s 6ms/step - loss: 413.4174 - val_loss: 530.4794\n",
            "Epoch 128/200\n",
            "11/11 [==============================] - 0s 5ms/step - loss: 413.3691 - val_loss: 531.6117\n",
            "Epoch 129/200\n",
            "11/11 [==============================] - 0s 5ms/step - loss: 413.6066 - val_loss: 527.1180\n",
            "Epoch 130/200\n",
            "11/11 [==============================] - 0s 7ms/step - loss: 413.1873 - val_loss: 535.4666\n",
            "Epoch 131/200\n",
            "11/11 [==============================] - 0s 6ms/step - loss: 413.2892 - val_loss: 527.1633\n",
            "Epoch 132/200\n",
            "11/11 [==============================] - 0s 6ms/step - loss: 412.8066 - val_loss: 535.6126\n",
            "Epoch 133/200\n",
            "11/11 [==============================] - 0s 6ms/step - loss: 411.8835 - val_loss: 529.1682\n",
            "Epoch 134/200\n",
            "11/11 [==============================] - 0s 6ms/step - loss: 411.9498 - val_loss: 529.8892\n",
            "Epoch 135/200\n",
            "11/11 [==============================] - 0s 5ms/step - loss: 411.5302 - val_loss: 533.5719\n",
            "Epoch 136/200\n",
            "11/11 [==============================] - 0s 5ms/step - loss: 411.6684 - val_loss: 530.8876\n",
            "Epoch 137/200\n",
            "11/11 [==============================] - 0s 6ms/step - loss: 411.5767 - val_loss: 532.5050\n",
            "Epoch 138/200\n",
            "11/11 [==============================] - 0s 5ms/step - loss: 411.3413 - val_loss: 529.3218\n",
            "Epoch 139/200\n",
            "11/11 [==============================] - 0s 7ms/step - loss: 410.6220 - val_loss: 534.0920\n",
            "Epoch 140/200\n",
            "11/11 [==============================] - 0s 5ms/step - loss: 410.9044 - val_loss: 532.5460\n",
            "Epoch 141/200\n",
            "11/11 [==============================] - 0s 6ms/step - loss: 411.2763 - val_loss: 531.3975\n",
            "Epoch 142/200\n",
            "11/11 [==============================] - 0s 5ms/step - loss: 411.1944 - val_loss: 527.6348\n",
            "Epoch 143/200\n",
            "11/11 [==============================] - 0s 5ms/step - loss: 411.4109 - val_loss: 535.7142\n",
            "Epoch 144/200\n",
            "11/11 [==============================] - 0s 5ms/step - loss: 410.1019 - val_loss: 527.4282\n",
            "Epoch 145/200\n",
            "11/11 [==============================] - 0s 6ms/step - loss: 410.2191 - val_loss: 534.3077\n",
            "Epoch 146/200\n",
            "11/11 [==============================] - 0s 6ms/step - loss: 409.8100 - val_loss: 533.6320\n",
            "Epoch 147/200\n",
            "11/11 [==============================] - 0s 5ms/step - loss: 409.3585 - val_loss: 531.0223\n",
            "Epoch 148/200\n",
            "11/11 [==============================] - 0s 5ms/step - loss: 409.6671 - val_loss: 530.4509\n",
            "Epoch 149/200\n",
            "11/11 [==============================] - 0s 6ms/step - loss: 410.6858 - val_loss: 535.9666\n",
            "Epoch 150/200\n",
            "11/11 [==============================] - 0s 6ms/step - loss: 409.5588 - val_loss: 529.1863\n",
            "Epoch 151/200\n",
            "11/11 [==============================] - 0s 5ms/step - loss: 409.4394 - val_loss: 536.4434\n",
            "Epoch 152/200\n",
            "11/11 [==============================] - 0s 5ms/step - loss: 409.6026 - val_loss: 530.8638\n",
            "Epoch 153/200\n",
            "11/11 [==============================] - 0s 5ms/step - loss: 409.2565 - val_loss: 535.9913\n",
            "Epoch 154/200\n",
            "11/11 [==============================] - 0s 5ms/step - loss: 410.1405 - val_loss: 532.5540\n",
            "Epoch 155/200\n",
            "11/11 [==============================] - 0s 5ms/step - loss: 408.8511 - val_loss: 527.4434\n",
            "Epoch 156/200\n",
            "11/11 [==============================] - 0s 5ms/step - loss: 408.7359 - val_loss: 539.7990\n",
            "Epoch 157/200\n",
            "11/11 [==============================] - 0s 7ms/step - loss: 408.2112 - val_loss: 529.1646\n",
            "Epoch 158/200\n",
            "11/11 [==============================] - 0s 5ms/step - loss: 408.3910 - val_loss: 534.5626\n",
            "Epoch 159/200\n",
            "11/11 [==============================] - 0s 6ms/step - loss: 407.9686 - val_loss: 531.4786\n",
            "Epoch 160/200\n",
            "11/11 [==============================] - 0s 6ms/step - loss: 408.3408 - val_loss: 534.2787\n",
            "Epoch 161/200\n",
            "11/11 [==============================] - 0s 5ms/step - loss: 407.9333 - val_loss: 533.1994\n",
            "Epoch 162/200\n",
            "11/11 [==============================] - 0s 6ms/step - loss: 407.5515 - val_loss: 530.3873\n",
            "Epoch 163/200\n",
            "11/11 [==============================] - 0s 5ms/step - loss: 407.9205 - val_loss: 535.0769\n",
            "Epoch 164/200\n",
            "11/11 [==============================] - 0s 6ms/step - loss: 408.3448 - val_loss: 532.7621\n",
            "Epoch 165/200\n",
            "11/11 [==============================] - 0s 4ms/step - loss: 407.4248 - val_loss: 532.2140\n",
            "Epoch 166/200\n",
            "11/11 [==============================] - 0s 5ms/step - loss: 408.1994 - val_loss: 532.6359\n",
            "Epoch 167/200\n",
            "11/11 [==============================] - 0s 6ms/step - loss: 408.6548 - val_loss: 533.6707\n",
            "Epoch 168/200\n",
            "11/11 [==============================] - 0s 6ms/step - loss: 406.5446 - val_loss: 532.4304\n",
            "Epoch 169/200\n",
            "11/11 [==============================] - 0s 5ms/step - loss: 407.5354 - val_loss: 535.0002\n",
            "Epoch 170/200\n",
            "11/11 [==============================] - 0s 6ms/step - loss: 406.5150 - val_loss: 535.0222\n",
            "Epoch 171/200\n",
            "11/11 [==============================] - 0s 6ms/step - loss: 406.4012 - val_loss: 532.0509\n",
            "Epoch 172/200\n",
            "11/11 [==============================] - 0s 6ms/step - loss: 408.2540 - val_loss: 532.3096\n",
            "Epoch 173/200\n",
            "11/11 [==============================] - 0s 6ms/step - loss: 406.8965 - val_loss: 531.8306\n",
            "Epoch 174/200\n",
            "11/11 [==============================] - 0s 5ms/step - loss: 406.5441 - val_loss: 540.1427\n",
            "Epoch 175/200\n",
            "11/11 [==============================] - 0s 5ms/step - loss: 406.8703 - val_loss: 535.2556\n",
            "Epoch 176/200\n",
            "11/11 [==============================] - 0s 6ms/step - loss: 406.2329 - val_loss: 531.8857\n",
            "Epoch 177/200\n",
            "11/11 [==============================] - 0s 5ms/step - loss: 406.3417 - val_loss: 531.7444\n",
            "Epoch 178/200\n",
            "11/11 [==============================] - 0s 7ms/step - loss: 408.4727 - val_loss: 535.6143\n",
            "Epoch 179/200\n",
            "11/11 [==============================] - 0s 6ms/step - loss: 409.1228 - val_loss: 530.4016\n",
            "Epoch 180/200\n",
            "11/11 [==============================] - 0s 7ms/step - loss: 407.9877 - val_loss: 537.9237\n",
            "Epoch 181/200\n",
            "11/11 [==============================] - 0s 7ms/step - loss: 406.6392 - val_loss: 531.2869\n",
            "Epoch 182/200\n",
            "11/11 [==============================] - 0s 7ms/step - loss: 405.8734 - val_loss: 537.2875\n",
            "Epoch 183/200\n",
            "11/11 [==============================] - 0s 5ms/step - loss: 405.4626 - val_loss: 531.6785\n",
            "Epoch 184/200\n",
            "11/11 [==============================] - 0s 6ms/step - loss: 405.2878 - val_loss: 534.9517\n",
            "Epoch 185/200\n",
            "11/11 [==============================] - 0s 5ms/step - loss: 405.4567 - val_loss: 535.3450\n",
            "Epoch 186/200\n",
            "11/11 [==============================] - 0s 5ms/step - loss: 405.2679 - val_loss: 532.9845\n",
            "Epoch 187/200\n",
            "11/11 [==============================] - 0s 5ms/step - loss: 404.7994 - val_loss: 536.6683\n",
            "Epoch 188/200\n",
            "11/11 [==============================] - 0s 6ms/step - loss: 405.3907 - val_loss: 533.7429\n",
            "Epoch 189/200\n",
            "11/11 [==============================] - 0s 5ms/step - loss: 405.7423 - val_loss: 533.4764\n",
            "Epoch 190/200\n",
            "11/11 [==============================] - 0s 7ms/step - loss: 405.5912 - val_loss: 537.3502\n",
            "Epoch 191/200\n",
            "11/11 [==============================] - 0s 6ms/step - loss: 405.1510 - val_loss: 531.0914\n",
            "Epoch 192/200\n",
            "11/11 [==============================] - 0s 6ms/step - loss: 404.3007 - val_loss: 536.6679\n",
            "Epoch 193/200\n",
            "11/11 [==============================] - 0s 6ms/step - loss: 404.9989 - val_loss: 535.6267\n",
            "Epoch 194/200\n",
            "11/11 [==============================] - 0s 7ms/step - loss: 404.3054 - val_loss: 531.9199\n",
            "Epoch 195/200\n",
            "11/11 [==============================] - 0s 5ms/step - loss: 405.7231 - val_loss: 535.0912\n",
            "Epoch 196/200\n",
            "11/11 [==============================] - 0s 5ms/step - loss: 404.7810 - val_loss: 534.9343\n",
            "Epoch 197/200\n",
            "11/11 [==============================] - 0s 5ms/step - loss: 404.4429 - val_loss: 536.4750\n",
            "Epoch 198/200\n",
            "11/11 [==============================] - 0s 6ms/step - loss: 405.4179 - val_loss: 536.4880\n",
            "Epoch 199/200\n",
            "11/11 [==============================] - 0s 5ms/step - loss: 405.2905 - val_loss: 535.0211\n",
            "Epoch 200/200\n",
            "11/11 [==============================] - 0s 6ms/step - loss: 406.0662 - val_loss: 535.0103\n"
          ]
        }
      ]
    },
    {
      "cell_type": "code",
      "source": [
        "# Se analizeaza pe grafic training loss-ul si validation loss-ul\n",
        "\n",
        "plt.plot(history.history['loss'], c='cornflowerblue', label='training loss')\n",
        "plt.plot(history.history['val_loss'], c='goldenrod', label='validation loss')\n",
        "plt.legend()\n",
        "plt.xlabel('epochs')\n",
        "plt.ylabel('loss');"
      ],
      "metadata": {
        "colab": {
          "base_uri": "https://localhost:8080/",
          "height": 279
        },
        "id": "yIIj4Bq5FbBb",
        "outputId": "272609fd-9387-4d4e-a0db-e600dc94d29d"
      },
      "execution_count": 116,
      "outputs": [
        {
          "output_type": "display_data",
          "data": {
            "text/plain": [
              "<Figure size 432x288 with 1 Axes>"
            ],
            "image/png": "[encoded data removed]"
          },
          "metadata": {
            "needs_background": "light"
          }
        }
      ]
    },
    {
      "cell_type": "code",
      "source": [
        "# Calcularea si afisarea valorilor RMSE, MAE, MSLE\n",
        "\n",
        "y_pred = model.predict(X_test).reshape((-1, ))\n",
        "\n",
        "mae = mean_absolute_error(y_test, y_pred)\n",
        "rmse = np.sqrt(mean_squared_error(y_test, y_pred))\n",
        "msle = mean_squared_log_error(y_test, y_pred)\n",
        "\n",
        "print(f'RMSE: {rmse} - MAE: {mae} - MSLE: {msle}')"
      ],
      "metadata": {
        "colab": {
          "base_uri": "https://localhost:8080/",
          "height": 0
        },
        "id": "XGDu7_B-GJfn",
        "outputId": "3de72a27-9849-45e5-992a-68bf45709ae0"
      },
      "execution_count": 119,
      "outputs": [
        {
          "output_type": "stream",
          "name": "stdout",
          "text": [
            "RMSE: 23.130289447348677 - MAE: 15.395006917317708 - MSLE: 1.7371994692508974\n"
          ]
        }
      ]
    },
    {
      "cell_type": "code",
      "source": [
        "# Se calculeaza vectorul de valori reziduale (valori reale - predictii)  \n",
        "errors = y_test - y_pred\n",
        "\n",
        "# Histograma cu estimarea densitatii acestor erori.\n",
        "sns.histplot(x=errors, kde=True);"
      ],
      "metadata": {
        "colab": {
          "base_uri": "https://localhost:8080/",
          "height": 279
        },
        "id": "AD3jHbpuGkEA",
        "outputId": "d713e24d-d796-4d52-a06e-48e5e5de4857"
      },
      "execution_count": 121,
      "outputs": [
        {
          "output_type": "display_data",
          "data": {
            "text/plain": [
              "<Figure size 432x288 with 1 Axes>"
            ],
            "image/png": "[encoded data removed]"
          },
          "metadata": {
            "needs_background": "light"
          }
        }
      ]
    }
  ]
}